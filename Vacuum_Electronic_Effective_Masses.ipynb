{
 "cells": [
  {
   "cell_type": "code",
   "execution_count": 27,
   "metadata": {},
   "outputs": [],
   "source": [
    "#Data loading and data refinement\n",
    "from IPython.display import Image\n",
    "\n",
    "import numpy as np\n",
    "import matplotlib.pyplot as plt\n",
    "import scipy \n",
    "from scipy import signal\n",
    "from scipy import interpolate"
   ]
  },
  {
   "cell_type": "code",
   "execution_count": 28,
   "metadata": {},
   "outputs": [],
   "source": [
    "data = np.loadtxt('calcite.txt')\n",
    "\n",
    "data=np.array(data)\n",
    "\n",
    "from operator import itemgetter\n",
    "first_item = itemgetter(0)\n",
    "data = np.array(sorted(data, key = first_item))\n"
   ]
  },
  {
   "cell_type": "code",
   "execution_count": 29,
   "metadata": {},
   "outputs": [],
   "source": [
    "#Load data and refine data using 1d spline interpolation\n",
    "\n",
    "xvals=[]\n",
    "\n",
    "yvals=[]\n",
    "\n",
    "for i in range(0,data.shape[0]):\n",
    "    xvals.append(data[i][0])\n",
    "   \n",
    "    \n",
    "for i in range(0,data.shape[0]):\n",
    "    yvals.append(data[i][1])\n",
    "\n",
    "    \n",
    "s = scipy.interpolate.interp1d(xvals, yvals)\n",
    "\n",
    "xvals_fine=np.arange(min(xvals),max(xvals),0.5)\n",
    "yvals_fine=[]\n",
    "\n",
    "for x in np.arange(min(xvals),max(xvals),0.5):\n",
    "    yvals_fine.append(s(x))\n",
    "\n",
    "    "
   ]
  },
  {
   "cell_type": "code",
   "execution_count": 30,
   "metadata": {
    "scrolled": true
   },
   "outputs": [
    {
     "data": {
      "image/png": "[encoded data removed]",
      "text/plain": [
       "<Figure size 432x288 with 1 Axes>"
      ]
     },
     "metadata": {
      "needs_background": "light"
     },
     "output_type": "display_data"
    }
   ],
   "source": [
    "#Compute all maxima of signal\n",
    "plt.plot(xvals_fine,yvals_fine)\n",
    "\n",
    "peaks=scipy.signal.find_peaks(yvals_fine)\n",
    "peaks=np.array(peaks)\n",
    "\n",
    "intensities=[]\n",
    "\n",
    "wavelengths = [] \n",
    "\n",
    "for i in range(0,peaks[0].shape[0]):\n",
    "    wavelengths.append(xvals_fine[peaks[0][i]])\n",
    "\n",
    "for i in range(0,peaks[0].shape[0]):\n",
    "    intensities.append(yvals_fine[peaks[0][i]])\n"
   ]
  },
  {
   "cell_type": "code",
   "execution_count": 31,
   "metadata": {},
   "outputs": [
    {
     "data": {
      "text/plain": [
       "[355.043,\n",
       " 379.543,\n",
       " 381.543,\n",
       " 405.043,\n",
       " 478.043,\n",
       " 482.043,\n",
       " 485.043,\n",
       " 512.543,\n",
       " 519.543,\n",
       " 531.043,\n",
       " 541.043,\n",
       " 545.043,\n",
       " 556.043,\n",
       " 578.543,\n",
       " 591.543,\n",
       " 615.543,\n",
       " 617.043,\n",
       " 620.543,\n",
       " 622.043,\n",
       " 623.543]"
      ]
     },
     "execution_count": 31,
     "metadata": {},
     "output_type": "execute_result"
    }
   ],
   "source": [
    "wavelengths"
   ]
  },
  {
   "cell_type": "code",
   "execution_count": 32,
   "metadata": {},
   "outputs": [],
   "source": [
    "#Effective mass calculations assuming this is the lowest excited state"
   ]
  },
  {
   "cell_type": "code",
   "execution_count": 33,
   "metadata": {},
   "outputs": [],
   "source": [
    "import skimage\n",
    "from skimage import io\n",
    "\n",
    "#Parameters\n",
    "h= 4.1357*10e-15\n",
    "R_eff=3.0\n",
    "c=2.99792458e+17\n",
    "alpha_01=2.4048\n",
    "\n",
    "#Alpha_01 is the first root of the 0-th order spherical bessel function"
   ]
  },
  {
   "cell_type": "code",
   "execution_count": 34,
   "metadata": {
    "scrolled": false
   },
   "outputs": [
    {
     "data": {
      "image/png": "[encoded data removed]",
      "text/plain": [
       "<Figure size 432x288 with 1 Axes>"
      ]
     },
     "metadata": {
      "needs_background": "light"
     },
     "output_type": "display_data"
    }
   ],
   "source": [
    "img=io.imread('CodeCogsEqn.gif')\n",
    "io.imshow(img)\n",
    "\n",
    "#effective mass of electron in band c, where c is determined from the band structure\n",
    "def effective_mass(lambda_c):\n",
    "    m_c=(h*lambda_c*(alpha_01**2))/(4*(np.pi)**2*(R_eff**2*c))\n",
    "    return m_c"
   ]
  },
  {
   "cell_type": "code",
   "execution_count": 35,
   "metadata": {},
   "outputs": [],
   "source": [
    "effective_masses=[effective_mass(lambda_c) for lambda_c in wavelengths]"
   ]
  },
  {
   "cell_type": "code",
   "execution_count": 36,
   "metadata": {
    "scrolled": true
   },
   "outputs": [
    {
     "data": {
      "text/plain": [
       "[7.971957226842344e-31,\n",
       " 8.522067923455535e-31,\n",
       " 8.566974919097427e-31,\n",
       " 9.094632117889674e-31,\n",
       " 1.0733737458818773e-30,\n",
       " 1.082355145010256e-30,\n",
       " 1.0890911943565401e-30,\n",
       " 1.1508383133641432e-30,\n",
       " 1.1665557618388058e-30,\n",
       " 1.1923772843328945e-30,\n",
       " 1.2148307821538412e-30,\n",
       " 1.2238121812822195e-30,\n",
       " 1.2485110288852608e-30,\n",
       " 1.2990313989823906e-30,\n",
       " 1.3282209461496213e-30,\n",
       " 1.382109340919893e-30,\n",
       " 1.3854773655930351e-30,\n",
       " 1.3933360898303664e-30,\n",
       " 1.3967041145035083e-30,\n",
       " 1.4000721391766502e-30]"
      ]
     },
     "execution_count": 36,
     "metadata": {},
     "output_type": "execute_result"
    }
   ],
   "source": [
    "effective_masses"
   ]
  },
  {
   "cell_type": "code",
   "execution_count": 37,
   "metadata": {
    "scrolled": true
   },
   "outputs": [
    {
     "data": {
      "text/plain": [
       "Text(0, 0.5, 'Maxima Intensities')"
      ]
     },
     "execution_count": 37,
     "metadata": {},
     "output_type": "execute_result"
    },
    {
     "data": {
      "image/png": "[encoded data removed]",
      "text/plain": [
       "<Figure size 432x288 with 1 Axes>"
      ]
     },
     "metadata": {
      "needs_background": "light"
     },
     "output_type": "display_data"
    }
   ],
   "source": [
    "#Intensity at maxima vs effective mass at maxima\n",
    "plt.plot(effective_masses,intensities)\n",
    "plt.xlabel('Effective Masses')\n",
    "plt.ylabel('Maxima Intensities')"
   ]
  },
  {
   "cell_type": "code",
   "execution_count": 38,
   "metadata": {},
   "outputs": [],
   "source": [
    "#Connection with scattering experiments. Compton Scattering. What wavelengths of radiation do we measure in sample if we \n",
    "#irradiate with wavelength lambda_i ?"
   ]
  },
  {
   "cell_type": "code",
   "execution_count": 39,
   "metadata": {},
   "outputs": [
    {
     "data": {
      "text/plain": [
       "<matplotlib.image.AxesImage at 0x1a23105b50>"
      ]
     },
     "execution_count": 39,
     "metadata": {},
     "output_type": "execute_result"
    },
    {
     "data": {
      "image/png": "[encoded data removed]",
      "text/plain": [
       "<Figure size 432x288 with 1 Axes>"
      ]
     },
     "metadata": {
      "needs_background": "light"
     },
     "output_type": "display_data"
    }
   ],
   "source": [
    "eqtn=io.imread('img.png')\n",
    "io.imshow(eqtn)"
   ]
  },
  {
   "cell_type": "code",
   "execution_count": 40,
   "metadata": {},
   "outputs": [],
   "source": [
    "#Parameters\n",
    "#lambda_i is incident wavelength in nanometer\n",
    "\n",
    "\n",
    "cos_theta=0.5\n",
    "lambda_i=10\n",
    "\n",
    "lambda_f=[]\n",
    "lambda_exciton_approx=[]\n",
    "\n",
    "for i in range(0,len(effective_masses)):\n",
    "    lambda_f.append(lambda_i+(h/(effective_masses[i]*c))*(1-cos_theta))\n"
   ]
  },
  {
   "cell_type": "code",
   "execution_count": 41,
   "metadata": {},
   "outputs": [
    {
     "data": {
      "text/plain": [
       "[10.08652335864686,\n",
       " 10.080938162010778,\n",
       " 10.080513894434066,\n",
       " 10.07584259652446,\n",
       " 10.06426098243057,\n",
       " 10.063727743840397,\n",
       " 10.063333586556361,\n",
       " 10.059935484094128,\n",
       " 10.059127950572055,\n",
       " 10.05784750542622,\n",
       " 10.056778320436743,\n",
       " 10.056361631695218,\n",
       " 10.05524664967288,\n",
       " 10.05309806327975,\n",
       " 10.051931157707989,\n",
       " 10.049906363688738,\n",
       " 10.049785043868996,\n",
       " 10.049504245191802,\n",
       " 10.049384870216459,\n",
       " 10.049266069579895]"
      ]
     },
     "execution_count": 41,
     "metadata": {},
     "output_type": "execute_result"
    }
   ],
   "source": [
    "lambda_f\n",
    "    "
   ]
  },
  {
   "cell_type": "code",
   "execution_count": null,
   "metadata": {},
   "outputs": [],
   "source": []
  },
  {
   "cell_type": "code",
   "execution_count": null,
   "metadata": {},
   "outputs": [],
   "source": []
  }
 ],
 "metadata": {
  "kernelspec": {
   "display_name": "Python 3",
   "language": "python",
   "name": "python3"
  },
  "language_info": {
   "codemirror_mode": {
    "name": "ipython",
    "version": 3
   },
   "file_extension": ".py",
   "mimetype": "text/x-python",
   "name": "python",
   "nbconvert_exporter": "python",
   "pygments_lexer": "ipython3",
   "version": "3.7.6"
  }
 },
 "nbformat": 4,
 "nbformat_minor": 2
}
