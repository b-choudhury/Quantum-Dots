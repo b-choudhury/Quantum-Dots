{
 "cells": [
  {
   "cell_type": "code",
   "execution_count": 43,
   "metadata": {},
   "outputs": [],
   "source": [
    "#Data loading and data refinement\n",
    "from IPython.display import Image\n",
    "\n",
    "import numpy as np\n",
    "import matplotlib.pyplot as plt\n",
    "import scipy \n",
    "from scipy import signal"
   ]
  },
  {
   "cell_type": "code",
   "execution_count": 44,
   "metadata": {},
   "outputs": [],
   "source": [
    "data = np.loadtxt('calcite.txt')\n",
    "\n",
    "data=np.array(data)"
   ]
  },
  {
   "cell_type": "code",
   "execution_count": 45,
   "metadata": {},
   "outputs": [],
   "source": [
    "#Load data \n",
    "\n",
    "xvals=[]\n",
    "\n",
    "yvals=[]\n",
    "\n",
    "for i in range(0,data.shape[0]):\n",
    "    xvals.append(data[i][0])\n",
    "\n",
    "    \n",
    "for i in range(0,data.shape[0]):\n",
    "    yvals.append(data[i][1])\n",
    "\n"
   ]
  },
  {
   "cell_type": "code",
   "execution_count": 46,
   "metadata": {
    "scrolled": false
   },
   "outputs": [
    {
     "data": {
      "image/png": "[encoded data removed]",
      "text/plain": [
       "<Figure size 432x288 with 1 Axes>"
      ]
     },
     "metadata": {
      "needs_background": "light"
     },
     "output_type": "display_data"
    }
   ],
   "source": [
    "#Compute all maxima of signal\n",
    "plt.plot(xvals,yvals)\n",
    "\n",
    "peaks=scipy.signal.find_peaks(yvals)\n",
    "peaks=np.array(peaks)\n",
    "\n",
    "wavelengths = []\n",
    "\n",
    "for i in range(0,peaks[0].shape[0]):\n",
    "    wavelengths.append(xvals[peaks[0][i]])\n"
   ]
  },
  {
   "cell_type": "code",
   "execution_count": 47,
   "metadata": {},
   "outputs": [],
   "source": [
    "#Considering excitations from the conduction band, heavy hole band and light hole band\n",
    "#Empirical maxima(nm)\n",
    "\n",
    "lambda_c= 355.0\n",
    "lambda_lh=592.0\n",
    "lambda_hh=619.0"
   ]
  },
  {
   "cell_type": "code",
   "execution_count": 48,
   "metadata": {},
   "outputs": [],
   "source": [
    "#Effective mass calculations assuming this is the lowest excited state"
   ]
  },
  {
   "cell_type": "code",
   "execution_count": 49,
   "metadata": {},
   "outputs": [],
   "source": [
    "import skimage\n",
    "from skimage import io\n",
    "\n",
    "#Parameters\n",
    "h= 4.1357*10e-15\n",
    "R_eff=2.8e-6\n",
    "c=2.99792458e+17\n",
    "alpha_01=2.4048\n",
    "\n",
    "#Alpha_01 is the first root of the 0-th order spherical bessel function"
   ]
  },
  {
   "cell_type": "code",
   "execution_count": 50,
   "metadata": {
    "scrolled": false
   },
   "outputs": [
    {
     "data": {
      "image/png": "[encoded data removed]",
      "text/plain": [
       "<Figure size 432x288 with 1 Axes>"
      ]
     },
     "metadata": {
      "needs_background": "light"
     },
     "output_type": "display_data"
    }
   ],
   "source": [
    "img=io.imread('CodeCogsEqn.gif')\n",
    "io.imshow(img)\n",
    "\n",
    "#effective mass of electron in band c, where c is determined from the band structure\n",
    "def effective_mass(lambda_c):\n",
    "    m_c=(h*lambda_c*(alpha_01**2))/(4*(np.pi)**2*(R_eff**2))\n",
    "    return m_c"
   ]
  },
  {
   "cell_type": "code",
   "execution_count": 51,
   "metadata": {},
   "outputs": [],
   "source": [
    "effective_masses=[effective_mass(lambda_c) for lambda_c in wavelengths]"
   ]
  },
  {
   "cell_type": "code",
   "execution_count": 52,
   "metadata": {
    "scrolled": true
   },
   "outputs": [
    {
     "data": {
      "text/plain": [
       "[0.2744410600684977,\n",
       " 0.29483433628949346,\n",
       " 0.3067151525487412,\n",
       " 0.3692379964090339,\n",
       " 0.3727663090620242,\n",
       " 0.37491374245288267,\n",
       " 0.384323348930207,\n",
       " 0.38898912900001753,\n",
       " 0.39597543532846363,\n",
       " 0.4011705395698245,\n",
       " 0.41059173708740176,\n",
       " 0.4177418634514225,\n",
       " 0.4212833126166994,\n",
       " 0.4294658142992474,\n",
       " 0.4467333733320377,\n",
       " 0.4566491219004064,\n",
       " 0.47094396547633,\n",
       " 0.47957079036857336]"
      ]
     },
     "execution_count": 52,
     "metadata": {},
     "output_type": "execute_result"
    }
   ],
   "source": [
    "effective_masses"
   ]
  },
  {
   "cell_type": "code",
   "execution_count": null,
   "metadata": {},
   "outputs": [],
   "source": []
  },
  {
   "cell_type": "code",
   "execution_count": null,
   "metadata": {},
   "outputs": [],
   "source": []
  },
  {
   "cell_type": "code",
   "execution_count": null,
   "metadata": {},
   "outputs": [],
   "source": []
  },
  {
   "cell_type": "code",
   "execution_count": null,
   "metadata": {},
   "outputs": [],
   "source": []
  }
 ],
 "metadata": {
  "kernelspec": {
   "display_name": "Python 2",
   "language": "python",
   "name": "python2"
  },
  "language_info": {
   "codemirror_mode": {
    "name": "ipython",
    "version": 2
   },
   "file_extension": ".py",
   "mimetype": "text/x-python",
   "name": "python",
   "nbconvert_exporter": "python",
   "pygments_lexer": "ipython2",
   "version": "2.7.16"
  }
 },
 "nbformat": 4,
 "nbformat_minor": 2
}
